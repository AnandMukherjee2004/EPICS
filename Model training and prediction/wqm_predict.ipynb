{
 "cells": [
  {
   "cell_type": "code",
   "execution_count": 7,
   "id": "ce66c5e6-9350-4479-8150-df651d459d1b",
   "metadata": {},
   "outputs": [
    {
     "name": "stdout",
     "output_type": "stream",
     "text": [
      "{'Water Potability': 'Non-Potable'}\n"
     ]
    }
   ],
   "source": [
    "import joblib\n",
    "import numpy as np\n",
    "import pandas as pd\n",
    "import os\n",
    "\n",
    "# Define paths\n",
    "model_path = r\"C:\\Users\\hp\\Desktop\\EPICS\\models\\water_quality_model.pkl\"\n",
    "scaler_path = r\"C:\\Users\\hp\\Desktop\\EPICS\\models\\scaler.pkl\"\n",
    "imputer_path = r\"C:\\Users\\hp\\Desktop\\EPICS\\models\\imputer.pkl\"\n",
    "\n",
    "# Load trained models\n",
    "if not (os.path.exists(model_path) and os.path.exists(scaler_path) and os.path.exists(imputer_path)):\n",
    "    raise FileNotFoundError(\"Model files not found! Train the model first.\")\n",
    "\n",
    "model = joblib.load(model_path)\n",
    "scaler = joblib.load(scaler_path)\n",
    "imputer = joblib.load(imputer_path)\n",
    "\n",
    "# Define feature names (same order as dataset)\n",
    "feature_names = [\n",
    "    \"ph\", \"Hardness\", \"Solids\", \"Chloramines\", \"Sulfate\",\n",
    "    \"Conductivity\", \"Organic_carbon\", \"Trihalomethanes\", \"Turbidity\"\n",
    "]\n",
    "\n",
    "def analyze_water_quality(user_input):\n",
    "    \"\"\"Predict water potability based on input parameters.\"\"\"\n",
    "    # Convert input to DataFrame with feature names\n",
    "    user_df = pd.DataFrame([user_input], columns=feature_names)\n",
    "\n",
    "    # Handle missing values\n",
    "    user_df = pd.DataFrame(imputer.transform(user_df), columns=feature_names)\n",
    "\n",
    "    # Normalize input\n",
    "    user_df = pd.DataFrame(scaler.transform(user_df), columns=feature_names)\n",
    "\n",
    "    # Convert back to NumPy array to avoid feature name warning\n",
    "    user_array = user_df.to_numpy()\n",
    "\n",
    "    # Make prediction\n",
    "    prediction = model.predict(user_array)[0]\n",
    "\n",
    "    return {\n",
    "        \"Water Potability\": \"Potable\" if prediction == 1 else \"Non-Potable\"\n",
    "    }\n",
    "\n",
    "# Example usage\n",
    "if __name__ == \"__main__\":\n",
    "    test_input = [7.5, 200, 19000, 7, 350, 500, 15, 80, 3]  # Example values for testing\n",
    "    result = analyze_water_quality(test_input)\n",
    "    print(result)"
   ]
  }
 ],
 "metadata": {
  "kernelspec": {
   "display_name": "Python 3 (ipykernel)",
   "language": "python",
   "name": "python3"
  },
  "language_info": {
   "codemirror_mode": {
    "name": "ipython",
    "version": 3
   },
   "file_extension": ".py",
   "mimetype": "text/x-python",
   "name": "python",
   "nbconvert_exporter": "python",
   "pygments_lexer": "ipython3",
   "version": "3.11.7"
  }
 },
 "nbformat": 4,
 "nbformat_minor": 5
}
