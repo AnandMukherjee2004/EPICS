{
 "cells": [
  {
   "cell_type": "code",
   "execution_count": 4,
   "id": "07724f0e-ee43-4dd1-8afc-82f084502be3",
   "metadata": {},
   "outputs": [
    {
     "name": "stdout",
     "output_type": "stream",
     "text": [
      "Model trained and saved successfully in EPICS folder!\n"
     ]
    }
   ],
   "source": [
    "import os\n",
    "import pandas as pd\n",
    "import joblib\n",
    "from sklearn.model_selection import train_test_split\n",
    "from sklearn.preprocessing import MinMaxScaler\n",
    "from sklearn.ensemble import RandomForestClassifier\n",
    "from sklearn.impute import SimpleImputer\n",
    "\n",
    "# Define paths\n",
    "dataset_path = r\"C:\\Users\\hp\\Desktop\\EPICS\\water_potability.csv\"\n",
    "save_model_path = r\"C:\\Users\\hp\\Desktop\\EPICS\\models\"\n",
    "\n",
    "# Ensure the models directory exists\n",
    "os.makedirs(save_model_path, exist_ok=True)\n",
    "\n",
    "# Load dataset\n",
    "df = pd.read_csv(dataset_path)\n",
    "\n",
    "# Handle missing values\n",
    "imputer = SimpleImputer(strategy=\"mean\")\n",
    "df.iloc[:, :-1] = imputer.fit_transform(df.iloc[:, :-1])\n",
    "\n",
    "# Define input (X) and output (y)\n",
    "X = df.drop(columns=[\"Potability\"])\n",
    "y = df[\"Potability\"]\n",
    "\n",
    "# Normalize inputs\n",
    "scaler = MinMaxScaler()\n",
    "X_scaled = scaler.fit_transform(X)\n",
    "\n",
    "# Train-test split\n",
    "X_train, X_test, y_train, y_test = train_test_split(X_scaled, y, test_size=0.2, random_state=42)\n",
    "\n",
    "# Train model\n",
    "model = RandomForestClassifier(n_estimators=100, random_state=42)\n",
    "model.fit(X_train, y_train)\n",
    "\n",
    "# Save model & scaler\n",
    "joblib.dump(model, os.path.join(save_model_path, \"water_quality_model.pkl\"))\n",
    "joblib.dump(scaler, os.path.join(save_model_path, \"scaler.pkl\"))\n",
    "joblib.dump(imputer, os.path.join(save_model_path, \"imputer.pkl\"))\n",
    "\n",
    "print(\"Model trained and saved successfully in EPICS folder!\")\n"
   ]
  },
  {
   "cell_type": "code",
   "execution_count": null,
   "id": "b092baf3-0287-48bd-9274-fc35ad6d49d6",
   "metadata": {},
   "outputs": [],
   "source": []
  }
 ],
 "metadata": {
  "kernelspec": {
   "display_name": "Python 3 (ipykernel)",
   "language": "python",
   "name": "python3"
  },
  "language_info": {
   "codemirror_mode": {
    "name": "ipython",
    "version": 3
   },
   "file_extension": ".py",
   "mimetype": "text/x-python",
   "name": "python",
   "nbconvert_exporter": "python",
   "pygments_lexer": "ipython3",
   "version": "3.11.7"
  }
 },
 "nbformat": 4,
 "nbformat_minor": 5
}
