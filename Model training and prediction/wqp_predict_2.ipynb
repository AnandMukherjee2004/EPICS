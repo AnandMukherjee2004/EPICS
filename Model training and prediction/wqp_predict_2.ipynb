{
 "cells": [
  {
   "cell_type": "code",
   "execution_count": 1,
   "id": "2f35ceac-5f45-4fe8-be8a-909eb84a54e5",
   "metadata": {},
   "outputs": [
    {
     "name": "stdout",
     "output_type": "stream",
     "text": [
      "Prediction 1: Potable\n",
      "Prediction 2: Not Potable\n"
     ]
    }
   ],
   "source": [
    "import os\n",
    "import numpy as np\n",
    "import pandas as pd\n",
    "import joblib\n",
    "\n",
    "# Define model file paths\n",
    "model_path = r\"C:\\Users\\hp\\Desktop\\EPICS\\models2\\random_forest_model.pkl\"\n",
    "scaler_path = r\"C:\\Users\\hp\\Desktop\\EPICS\\models2\\scaler.pkl\"\n",
    "imputer_path = r\"C:\\Users\\hp\\Desktop\\EPICS\\models2\\imputer.pkl\"\n",
    "selector_path = r\"C:\\Users\\hp\\Desktop\\EPICS\\models2\\feature_selector.pkl\"\n",
    "\n",
    "# Load trained model and preprocessing objects\n",
    "rf_model = joblib.load(model_path)\n",
    "scaler = joblib.load(scaler_path)\n",
    "imputer = joblib.load(imputer_path)\n",
    "selector = joblib.load(selector_path)\n",
    "\n",
    "# Feature names in correct order (from training dataset)\n",
    "feature_names = [\n",
    "    \"ph\", \"Hardness\", \"Solids\", \"Chloramines\", \"Sulfate\",\n",
    "    \"Conductivity\", \"Organic_carbon\", \"Trihalomethanes\", \"Turbidity\"\n",
    "]\n",
    "\n",
    "def predict_potability(**kwargs):\n",
    "    # Create a DataFrame with missing values filled as NaN\n",
    "    input_data = pd.DataFrame([kwargs], columns=feature_names)\n",
    "    \n",
    "    # Fill missing values using the trained imputer\n",
    "    input_imputed = pd.DataFrame(imputer.transform(input_data), columns=feature_names)\n",
    "    \n",
    "    # Normalize data\n",
    "    input_scaled = scaler.transform(input_imputed)\n",
    "    \n",
    "    # Select features using the trained selector\n",
    "    input_selected = selector.transform(input_scaled)\n",
    "\n",
    "    # Predict potability\n",
    "    prediction = rf_model.predict(input_selected)[0]\n",
    "    return \"Potable\" if prediction == 1 else \"Not Potable\"\n",
    "\n",
    "# Example Predictions (with partial inputs)\n",
    "result1 = predict_potability(ph=7.2, Turbidity=4.5, Conductivity=350, Trihalomethanes=50)\n",
    "result2 = predict_potability(Sulfate=25, Solids=500, Chloramines=3)\n",
    "\n",
    "print(\"Prediction 1:\", result1)  # Output: Potable or Not Potable\n",
    "print(\"Prediction 2:\", result2)  # Output: Potable or Not Potable"
   ]
  },
  {
   "cell_type": "code",
   "execution_count": null,
   "id": "f547d75e-48ac-4c54-8fae-5513ce95687d",
   "metadata": {},
   "outputs": [],
   "source": []
  }
 ],
 "metadata": {
  "kernelspec": {
   "display_name": "Python 3 (ipykernel)",
   "language": "python",
   "name": "python3"
  },
  "language_info": {
   "codemirror_mode": {
    "name": "ipython",
    "version": 3
   },
   "file_extension": ".py",
   "mimetype": "text/x-python",
   "name": "python",
   "nbconvert_exporter": "python",
   "pygments_lexer": "ipython3",
   "version": "3.11.7"
  }
 },
 "nbformat": 4,
 "nbformat_minor": 5
}
